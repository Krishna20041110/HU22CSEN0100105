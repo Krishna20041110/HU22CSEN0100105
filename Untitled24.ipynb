{
  "nbformat": 4,
  "nbformat_minor": 0,
  "metadata": {
    "colab": {
      "provenance": [],
      "authorship_tag": "ABX9TyPBUzMzbbU53yyT/yDDHmiW",
      "include_colab_link": true
    },
    "kernelspec": {
      "name": "python3",
      "display_name": "Python 3"
    },
    "language_info": {
      "name": "python"
    }
  },
  "cells": [
    {
      "cell_type": "markdown",
      "metadata": {
        "id": "view-in-github",
        "colab_type": "text"
      },
      "source": [
        "<a href=\"https://colab.research.google.com/github/Krishna20041110/Softwareengineering/blob/main/Untitled24.ipynb\" target=\"_parent\"><img src=\"https://colab.research.google.com/assets/colab-badge.svg\" alt=\"Open In Colab\"/></a>"
      ]
    },
    {
      "cell_type": "code",
      "execution_count": null,
      "metadata": {
        "id": "vGOS1sr4mwHh"
      },
      "outputs": [],
      "source": [
        "#temperature function\n",
        "def Temp_modelling(a,b,c,time):\n",
        "  temp=a*time**2+b*time+c\n",
        "  return temp"
      ]
    },
    {
      "cell_type": "code",
      "source": [
        "#Hardcoded variables\n",
        "a,b,c=0.1,2,10\n",
        "time=5\n",
        "print(\"Hardcoded variables for weather modelling\")\n",
        "print(\"Temperature for hardcoded temperature at time\",time,\"hours\",Temp_modelling(a,b,c,time))"
      ],
      "metadata": {
        "colab": {
          "base_uri": "https://localhost:8080/"
        },
        "id": "rtCQ-XSKwQX5",
        "outputId": "22b78305-6985-47d3-8b0d-8122dc173cf1"
      },
      "execution_count": null,
      "outputs": [
        {
          "output_type": "stream",
          "name": "stdout",
          "text": [
            "Hardcoded variables for weather modelling\n",
            "Temperature for hardcoded temperature at time 5 hours 22.5\n"
          ]
        }
      ]
    },
    {
      "cell_type": "code",
      "source": [
        "#variables read from keyboard\n",
        "a=float(input(\"Enter value of a: \"))\n",
        "b=float(input(\"Enter value of b: \"))\n",
        "c=float(input(\"Enter value of c: \"))\n",
        "time=float(input(\"Enter value of time: \"))\n",
        "print(\"Keyboard input variables for weather modelling\")\n",
        "print(\"Temperature for hardcoded temperature at time\",time,\"hours\",Temp_modelling(a,b,c,time))"
      ],
      "metadata": {
        "colab": {
          "base_uri": "https://localhost:8080/"
        },
        "id": "SBv0DMh6wSXc",
        "outputId": "a6c8aef2-2f6e-4031-9939-29443f7d58f8"
      },
      "execution_count": null,
      "outputs": [
        {
          "output_type": "stream",
          "name": "stdout",
          "text": [
            "Enter value of a: 1\n",
            "Enter value of b: 3\n",
            "Enter value of c: 7\n",
            "Enter value of time: 3\n",
            "Keyboard input variables for weather modelling\n",
            "Temperature for hardcoded temperature at time 3.0 hours 25.0\n"
          ]
        }
      ]
    },
    {
      "cell_type": "code",
      "source": [
        "#read from file\n",
        "def read_from_file(filename):\n",
        "  with open(filename,'r') as f:\n",
        "    lines=f.readlines()\n",
        "  coeffiecients=[tuple(map(float,line.strip().split(','))) for line in lines]\n",
        "  return coeffiecients"
      ],
      "metadata": {
        "id": "g2n4Y6VlwfvW"
      },
      "execution_count": null,
      "outputs": []
    },
    {
      "cell_type": "code",
      "source": [
        "#solve for a single set of inputs\n",
        "coeffiecients=read_from_file('/content/sample.txt')\n",
        "a,b,c,time=coeffiecients[0]\n",
        "temp=Temp_modelling(a,b,c,time)\n",
        "print(\"read from a file for weather modelling\")\n",
        "print(\"Temperature for keyboard coefficients at time\",time,\"hours\",Temp_modelling(a,b,c,time))"
      ],
      "metadata": {
        "colab": {
          "base_uri": "https://localhost:8080/"
        },
        "id": "uXTdCU38wgYu",
        "outputId": "66ae9caa-ae97-4742-a2e9-a92bed0baa51"
      },
      "execution_count": null,
      "outputs": [
        {
          "output_type": "stream",
          "name": "stdout",
          "text": [
            "read from a file for weather modelling\n",
            "Temperature for keyboard coefficients at time 2.0 hours 19.8\n"
          ]
        }
      ]
    },
    {
      "cell_type": "code",
      "source": [
        "#solve for all sets in the file\n",
        "for idx,(a,b,c,time) in enumerate(coeffiecients):\n",
        "  temp=Temp_modelling(a,b,c,time)\n",
        "  print(\"Temperature for keyboard coefficients at time\",time,\"hours\",temp)"
      ],
      "metadata": {
        "colab": {
          "base_uri": "https://localhost:8080/"
        },
        "id": "lXYXx09Twitz",
        "outputId": "31bc9b6b-ed7b-4fd6-ca0f-049c260cf35f"
      },
      "execution_count": null,
      "outputs": [
        {
          "output_type": "stream",
          "name": "stdout",
          "text": [
            "Temperature for keyboard coefficients at time 2.0 hours 19.8\n",
            "Temperature for keyboard coefficients at time 4.0 hours 134.4\n",
            "Temperature for keyboard coefficients at time 8.0 hours 627.0\n"
          ]
        }
      ]
    }
  ]
}